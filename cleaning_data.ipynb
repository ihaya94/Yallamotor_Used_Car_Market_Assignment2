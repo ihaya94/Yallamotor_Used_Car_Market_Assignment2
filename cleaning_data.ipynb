{
 "cells": [
  {
   "cell_type": "code",
   "execution_count": 163,
   "metadata": {},
   "outputs": [],
   "source": [
    "import pandas as pd\n",
    "import numpy as np\n",
    "import seaborn as sns\n",
    "import matplotlib.pyplot as plt\n",
    "import matplotlib as mlp\n",
    "import plotly.express as px\n",
    "%config InlineBackend.figure_format = 'retina'\n",
    "%matplotlib inline\n"
   ]
  },
  {
   "cell_type": "code",
   "execution_count": 164,
   "metadata": {},
   "outputs": [
    {
     "data": {
      "text/html": [
       "<div>\n",
       "<style scoped>\n",
       "    .dataframe tbody tr th:only-of-type {\n",
       "        vertical-align: middle;\n",
       "    }\n",
       "\n",
       "    .dataframe tbody tr th {\n",
       "        vertical-align: top;\n",
       "    }\n",
       "\n",
       "    .dataframe thead th {\n",
       "        text-align: right;\n",
       "    }\n",
       "</style>\n",
       "<table border=\"1\" class=\"dataframe\">\n",
       "  <thead>\n",
       "    <tr style=\"text-align: right;\">\n",
       "      <th></th>\n",
       "      <th>car_name</th>\n",
       "      <th>model_year</th>\n",
       "      <th>km</th>\n",
       "      <th>transmission</th>\n",
       "      <th>fuel</th>\n",
       "      <th>color</th>\n",
       "      <th>no_doors</th>\n",
       "      <th>engine_capacity</th>\n",
       "      <th>drive_type</th>\n",
       "      <th>no_cylinders</th>\n",
       "      <th>Accident_history</th>\n",
       "      <th>price</th>\n",
       "    </tr>\n",
       "  </thead>\n",
       "  <tbody>\n",
       "    <tr>\n",
       "      <th>0</th>\n",
       "      <td>Used BMW 7 Series  730Li 2018</td>\n",
       "      <td>2018</td>\n",
       "      <td>34,770KM</td>\n",
       "      <td>Automatic</td>\n",
       "      <td>Petrol</td>\n",
       "      <td>Silver</td>\n",
       "      <td>4.0</td>\n",
       "      <td>1998.0</td>\n",
       "      <td>\\n            Rear Wheel Drive\\n</td>\n",
       "      <td>4</td>\n",
       "      <td>Perfect inside out</td>\n",
       "      <td>190,000</td>\n",
       "    </tr>\n",
       "    <tr>\n",
       "      <th>1</th>\n",
       "      <td>Used Infiniti QX80  5.6L Luxe (8 Seats) 2020</td>\n",
       "      <td>2020</td>\n",
       "      <td>38,928KM</td>\n",
       "      <td>Automatic</td>\n",
       "      <td>Petrol</td>\n",
       "      <td>White</td>\n",
       "      <td>5.0</td>\n",
       "      <td>5552.0</td>\n",
       "      <td>\\n            All Wheel Drive\\n</td>\n",
       "      <td>8</td>\n",
       "      <td>Perfect inside out</td>\n",
       "      <td>228,350</td>\n",
       "    </tr>\n",
       "    <tr>\n",
       "      <th>2</th>\n",
       "      <td>Used Chevrolet Suburban  5.3L LS 2WD 2018</td>\n",
       "      <td>2018</td>\n",
       "      <td>36,827KM</td>\n",
       "      <td>Automatic</td>\n",
       "      <td>Petrol</td>\n",
       "      <td>Black</td>\n",
       "      <td>5.0</td>\n",
       "      <td>5300.0</td>\n",
       "      <td>\\n            Rear Wheel Drive\\n</td>\n",
       "      <td>8</td>\n",
       "      <td>Perfect inside out</td>\n",
       "      <td>135,575</td>\n",
       "    </tr>\n",
       "    <tr>\n",
       "      <th>3</th>\n",
       "      <td>Used Chevrolet Silverado 2016</td>\n",
       "      <td>2016</td>\n",
       "      <td>142,731KM</td>\n",
       "      <td>Automatic</td>\n",
       "      <td>Petrol</td>\n",
       "      <td>White</td>\n",
       "      <td>2.0</td>\n",
       "      <td>5300.0</td>\n",
       "      <td>\\n            All Wheel Drive\\n</td>\n",
       "      <td>8</td>\n",
       "      <td>Perfect inside out</td>\n",
       "      <td>64,450</td>\n",
       "    </tr>\n",
       "  </tbody>\n",
       "</table>\n",
       "</div>"
      ],
      "text/plain": [
       "                                       car_name  model_year         km  \\\n",
       "0                 Used BMW 7 Series  730Li 2018        2018   34,770KM   \n",
       "1  Used Infiniti QX80  5.6L Luxe (8 Seats) 2020        2020   38,928KM   \n",
       "2     Used Chevrolet Suburban  5.3L LS 2WD 2018        2018   36,827KM   \n",
       "3                 Used Chevrolet Silverado 2016        2016  142,731KM   \n",
       "\n",
       "  transmission    fuel   color  no_doors  engine_capacity  \\\n",
       "0    Automatic  Petrol  Silver       4.0           1998.0   \n",
       "1    Automatic  Petrol   White       5.0           5552.0   \n",
       "2    Automatic  Petrol   Black       5.0           5300.0   \n",
       "3    Automatic  Petrol   White       2.0           5300.0   \n",
       "\n",
       "                                   drive_type no_cylinders  \\\n",
       "0  \\n            Rear Wheel Drive\\n                      4   \n",
       "1   \\n            All Wheel Drive\\n                      8   \n",
       "2  \\n            Rear Wheel Drive\\n                      8   \n",
       "3   \\n            All Wheel Drive\\n                      8   \n",
       "\n",
       "     Accident_history    price  \n",
       "0  Perfect inside out  190,000  \n",
       "1  Perfect inside out  228,350  \n",
       "2  Perfect inside out  135,575  \n",
       "3  Perfect inside out   64,450  "
      ]
     },
     "execution_count": 164,
     "metadata": {},
     "output_type": "execute_result"
    }
   ],
   "source": [
    "df_1 = pd.read_csv(\"https://raw.githubusercontent.com/YousefAlotaibi/saudi_used_cars_price_prediciton/main/data/ScrapedData/cars_data.csv\")\n",
    "df_2 = pd.read_csv(\"https://raw.githubusercontent.com/YousefAlotaibi/saudi_used_cars_price_prediciton/main/data/ScrapedData/cars_data2.csv\")\n",
    "df_3 = pd.read_csv(\"https://raw.githubusercontent.com/YousefAlotaibi/saudi_used_cars_price_prediciton/main/data/ScrapedData/cars_data3.csv\")\n",
    "df = pd.concat([df_1,df_2,df_3])\n",
    "df.head(4)"
   ]
  },
  {
   "cell_type": "code",
   "execution_count": 165,
   "metadata": {},
   "outputs": [
    {
     "data": {
      "text/plain": [
       "98"
      ]
     },
     "execution_count": 165,
     "metadata": {},
     "output_type": "execute_result"
    }
   ],
   "source": [
    "df['car_name'].str.contains('New').sum()"
   ]
  },
  {
   "cell_type": "code",
   "execution_count": 166,
   "metadata": {},
   "outputs": [],
   "source": [
    "df = df[df[\"car_name\"].str.contains(\"New\") == False]"
   ]
  },
  {
   "cell_type": "code",
   "execution_count": 121,
   "metadata": {},
   "outputs": [
    {
     "name": "stdout",
     "output_type": "stream",
     "text": [
      "<class 'pandas.core.frame.DataFrame'>\n",
      "Int64Index: 8715 entries, 0 to 1059\n",
      "Data columns (total 12 columns):\n",
      " #   Column            Non-Null Count  Dtype  \n",
      "---  ------            --------------  -----  \n",
      " 0   car_name          8715 non-null   object \n",
      " 1   model_year        8715 non-null   int64  \n",
      " 2   km                8715 non-null   object \n",
      " 3   transmission      4908 non-null   object \n",
      " 4   fuel              1104 non-null   object \n",
      " 5   color             7727 non-null   object \n",
      " 6   no_doors          1074 non-null   float64\n",
      " 7   engine_capacity   971 non-null    float64\n",
      " 8   drive_type        8715 non-null   object \n",
      " 9   no_cylinders      4942 non-null   object \n",
      " 10  Accident_history  4915 non-null   object \n",
      " 11  price             8715 non-null   object \n",
      "dtypes: float64(2), int64(1), object(9)\n",
      "memory usage: 885.1+ KB\n"
     ]
    }
   ],
   "source": [
    "df.info()"
   ]
  },
  {
   "cell_type": "code",
   "execution_count": 167,
   "metadata": {},
   "outputs": [
    {
     "data": {
      "text/plain": [
       "3547"
      ]
     },
     "execution_count": 167,
     "metadata": {},
     "output_type": "execute_result"
    }
   ],
   "source": [
    "df.duplicated().sum()"
   ]
  },
  {
   "cell_type": "code",
   "execution_count": 168,
   "metadata": {},
   "outputs": [
    {
     "data": {
      "text/plain": [
       "0"
      ]
     },
     "execution_count": 168,
     "metadata": {},
     "output_type": "execute_result"
    }
   ],
   "source": [
    "# Remove the duplicaions\n",
    "df.drop_duplicates(inplace=True)\n",
    "df.duplicated().sum()"
   ]
  },
  {
   "cell_type": "code",
   "execution_count": 70,
   "metadata": {},
   "outputs": [
    {
     "data": {
      "text/plain": [
       "0                      Used BMW 7 Series  730Li 2018\n",
       "1       Used Infiniti QX80  5.6L Luxe (8 Seats) 2020\n",
       "2          Used Chevrolet Suburban  5.3L LS 2WD 2018\n",
       "3                      Used Chevrolet Silverado 2016\n",
       "4                Used GMC Yukon  5.3L SLE (2WD) 2018\n",
       "                            ...                     \n",
       "5854                              Used Fiat 500 2012\n",
       "711                 Used Land Rover Range Rover 2019\n",
       "1234             Used Toyota Land Cruiser Prado 2015\n",
       "70                          Used Hyundai Accent 2019\n",
       "1059    Used Toyota Corolla  1.6L XLI Executive 2006\n",
       "Name: car_name, Length: 5122, dtype: object"
      ]
     },
     "execution_count": 70,
     "metadata": {},
     "output_type": "execute_result"
    }
   ],
   "source": [
    "df.car_name"
   ]
  },
  {
   "cell_type": "code",
   "execution_count": 169,
   "metadata": {},
   "outputs": [
    {
     "data": {
      "text/html": [
       "<div>\n",
       "<style scoped>\n",
       "    .dataframe tbody tr th:only-of-type {\n",
       "        vertical-align: middle;\n",
       "    }\n",
       "\n",
       "    .dataframe tbody tr th {\n",
       "        vertical-align: top;\n",
       "    }\n",
       "\n",
       "    .dataframe thead th {\n",
       "        text-align: right;\n",
       "    }\n",
       "</style>\n",
       "<table border=\"1\" class=\"dataframe\">\n",
       "  <thead>\n",
       "    <tr style=\"text-align: right;\">\n",
       "      <th></th>\n",
       "      <th>car_name</th>\n",
       "      <th>model_year</th>\n",
       "      <th>km</th>\n",
       "      <th>transmission</th>\n",
       "      <th>fuel</th>\n",
       "      <th>color</th>\n",
       "      <th>no_doors</th>\n",
       "      <th>engine_capacity</th>\n",
       "      <th>drive_type</th>\n",
       "      <th>no_cylinders</th>\n",
       "      <th>Accident_history</th>\n",
       "      <th>price</th>\n",
       "      <th>car_make</th>\n",
       "      <th>car_model</th>\n",
       "    </tr>\n",
       "  </thead>\n",
       "  <tbody>\n",
       "    <tr>\n",
       "      <th>0</th>\n",
       "      <td>Used BMW 7 Series  730Li 2018</td>\n",
       "      <td>2018</td>\n",
       "      <td>34,770KM</td>\n",
       "      <td>Automatic</td>\n",
       "      <td>Petrol</td>\n",
       "      <td>Silver</td>\n",
       "      <td>4.0</td>\n",
       "      <td>1998.0</td>\n",
       "      <td>\\n            Rear Wheel Drive\\n</td>\n",
       "      <td>4</td>\n",
       "      <td>Perfect inside out</td>\n",
       "      <td>190,000</td>\n",
       "      <td>BMW</td>\n",
       "      <td>7</td>\n",
       "    </tr>\n",
       "    <tr>\n",
       "      <th>1</th>\n",
       "      <td>Used Infiniti QX80  5.6L Luxe (8 Seats) 2020</td>\n",
       "      <td>2020</td>\n",
       "      <td>38,928KM</td>\n",
       "      <td>Automatic</td>\n",
       "      <td>Petrol</td>\n",
       "      <td>White</td>\n",
       "      <td>5.0</td>\n",
       "      <td>5552.0</td>\n",
       "      <td>\\n            All Wheel Drive\\n</td>\n",
       "      <td>8</td>\n",
       "      <td>Perfect inside out</td>\n",
       "      <td>228,350</td>\n",
       "      <td>Infiniti</td>\n",
       "      <td>QX80</td>\n",
       "    </tr>\n",
       "    <tr>\n",
       "      <th>2</th>\n",
       "      <td>Used Chevrolet Suburban  5.3L LS 2WD 2018</td>\n",
       "      <td>2018</td>\n",
       "      <td>36,827KM</td>\n",
       "      <td>Automatic</td>\n",
       "      <td>Petrol</td>\n",
       "      <td>Black</td>\n",
       "      <td>5.0</td>\n",
       "      <td>5300.0</td>\n",
       "      <td>\\n            Rear Wheel Drive\\n</td>\n",
       "      <td>8</td>\n",
       "      <td>Perfect inside out</td>\n",
       "      <td>135,575</td>\n",
       "      <td>Chevrolet</td>\n",
       "      <td>Suburban</td>\n",
       "    </tr>\n",
       "    <tr>\n",
       "      <th>3</th>\n",
       "      <td>Used Chevrolet Silverado 2016</td>\n",
       "      <td>2016</td>\n",
       "      <td>142,731KM</td>\n",
       "      <td>Automatic</td>\n",
       "      <td>Petrol</td>\n",
       "      <td>White</td>\n",
       "      <td>2.0</td>\n",
       "      <td>5300.0</td>\n",
       "      <td>\\n            All Wheel Drive\\n</td>\n",
       "      <td>8</td>\n",
       "      <td>Perfect inside out</td>\n",
       "      <td>64,450</td>\n",
       "      <td>Chevrolet</td>\n",
       "      <td>Silverado</td>\n",
       "    </tr>\n",
       "  </tbody>\n",
       "</table>\n",
       "</div>"
      ],
      "text/plain": [
       "                                       car_name  model_year         km  \\\n",
       "0                 Used BMW 7 Series  730Li 2018        2018   34,770KM   \n",
       "1  Used Infiniti QX80  5.6L Luxe (8 Seats) 2020        2020   38,928KM   \n",
       "2     Used Chevrolet Suburban  5.3L LS 2WD 2018        2018   36,827KM   \n",
       "3                 Used Chevrolet Silverado 2016        2016  142,731KM   \n",
       "\n",
       "  transmission    fuel   color  no_doors  engine_capacity  \\\n",
       "0    Automatic  Petrol  Silver       4.0           1998.0   \n",
       "1    Automatic  Petrol   White       5.0           5552.0   \n",
       "2    Automatic  Petrol   Black       5.0           5300.0   \n",
       "3    Automatic  Petrol   White       2.0           5300.0   \n",
       "\n",
       "                                   drive_type no_cylinders  \\\n",
       "0  \\n            Rear Wheel Drive\\n                      4   \n",
       "1   \\n            All Wheel Drive\\n                      8   \n",
       "2  \\n            Rear Wheel Drive\\n                      8   \n",
       "3   \\n            All Wheel Drive\\n                      8   \n",
       "\n",
       "     Accident_history    price   car_make  car_model  \n",
       "0  Perfect inside out  190,000        BMW          7  \n",
       "1  Perfect inside out  228,350   Infiniti       QX80  \n",
       "2  Perfect inside out  135,575  Chevrolet   Suburban  \n",
       "3  Perfect inside out   64,450  Chevrolet  Silverado  "
      ]
     },
     "execution_count": 169,
     "metadata": {},
     "output_type": "execute_result"
    }
   ],
   "source": [
    "# Split it into two new columns car_make and car_model\n",
    "df['car_make'] = df['car_name'].str.split(' ').str[1]\n",
    "df['car_model'] = df['car_name'].str.split(' ').str[2]\n",
    "df.head(4)"
   ]
  },
  {
   "cell_type": "code",
   "execution_count": 170,
   "metadata": {},
   "outputs": [
    {
     "data": {
      "text/html": [
       "<div>\n",
       "<style scoped>\n",
       "    .dataframe tbody tr th:only-of-type {\n",
       "        vertical-align: middle;\n",
       "    }\n",
       "\n",
       "    .dataframe tbody tr th {\n",
       "        vertical-align: top;\n",
       "    }\n",
       "\n",
       "    .dataframe thead th {\n",
       "        text-align: right;\n",
       "    }\n",
       "</style>\n",
       "<table border=\"1\" class=\"dataframe\">\n",
       "  <thead>\n",
       "    <tr style=\"text-align: right;\">\n",
       "      <th></th>\n",
       "      <th>car_make</th>\n",
       "      <th>car_model</th>\n",
       "      <th>model_year</th>\n",
       "      <th>km</th>\n",
       "      <th>transmission</th>\n",
       "      <th>fuel</th>\n",
       "      <th>color</th>\n",
       "      <th>no_doors</th>\n",
       "      <th>engine_capacity</th>\n",
       "      <th>drive_type</th>\n",
       "      <th>no_cylinders</th>\n",
       "      <th>Accident_history</th>\n",
       "      <th>price</th>\n",
       "    </tr>\n",
       "  </thead>\n",
       "  <tbody>\n",
       "    <tr>\n",
       "      <th>0</th>\n",
       "      <td>BMW</td>\n",
       "      <td>7</td>\n",
       "      <td>2018</td>\n",
       "      <td>34,770KM</td>\n",
       "      <td>Automatic</td>\n",
       "      <td>Petrol</td>\n",
       "      <td>Silver</td>\n",
       "      <td>4.0</td>\n",
       "      <td>1998.0</td>\n",
       "      <td>\\n            Rear Wheel Drive\\n</td>\n",
       "      <td>4</td>\n",
       "      <td>Perfect inside out</td>\n",
       "      <td>190,000</td>\n",
       "    </tr>\n",
       "    <tr>\n",
       "      <th>1</th>\n",
       "      <td>Infiniti</td>\n",
       "      <td>QX80</td>\n",
       "      <td>2020</td>\n",
       "      <td>38,928KM</td>\n",
       "      <td>Automatic</td>\n",
       "      <td>Petrol</td>\n",
       "      <td>White</td>\n",
       "      <td>5.0</td>\n",
       "      <td>5552.0</td>\n",
       "      <td>\\n            All Wheel Drive\\n</td>\n",
       "      <td>8</td>\n",
       "      <td>Perfect inside out</td>\n",
       "      <td>228,350</td>\n",
       "    </tr>\n",
       "    <tr>\n",
       "      <th>2</th>\n",
       "      <td>Chevrolet</td>\n",
       "      <td>Suburban</td>\n",
       "      <td>2018</td>\n",
       "      <td>36,827KM</td>\n",
       "      <td>Automatic</td>\n",
       "      <td>Petrol</td>\n",
       "      <td>Black</td>\n",
       "      <td>5.0</td>\n",
       "      <td>5300.0</td>\n",
       "      <td>\\n            Rear Wheel Drive\\n</td>\n",
       "      <td>8</td>\n",
       "      <td>Perfect inside out</td>\n",
       "      <td>135,575</td>\n",
       "    </tr>\n",
       "    <tr>\n",
       "      <th>3</th>\n",
       "      <td>Chevrolet</td>\n",
       "      <td>Silverado</td>\n",
       "      <td>2016</td>\n",
       "      <td>142,731KM</td>\n",
       "      <td>Automatic</td>\n",
       "      <td>Petrol</td>\n",
       "      <td>White</td>\n",
       "      <td>2.0</td>\n",
       "      <td>5300.0</td>\n",
       "      <td>\\n            All Wheel Drive\\n</td>\n",
       "      <td>8</td>\n",
       "      <td>Perfect inside out</td>\n",
       "      <td>64,450</td>\n",
       "    </tr>\n",
       "  </tbody>\n",
       "</table>\n",
       "</div>"
      ],
      "text/plain": [
       "    car_make  car_model  model_year         km transmission    fuel   color  \\\n",
       "0        BMW          7        2018   34,770KM    Automatic  Petrol  Silver   \n",
       "1   Infiniti       QX80        2020   38,928KM    Automatic  Petrol   White   \n",
       "2  Chevrolet   Suburban        2018   36,827KM    Automatic  Petrol   Black   \n",
       "3  Chevrolet  Silverado        2016  142,731KM    Automatic  Petrol   White   \n",
       "\n",
       "   no_doors  engine_capacity                                  drive_type  \\\n",
       "0       4.0           1998.0  \\n            Rear Wheel Drive\\n             \n",
       "1       5.0           5552.0   \\n            All Wheel Drive\\n             \n",
       "2       5.0           5300.0  \\n            Rear Wheel Drive\\n             \n",
       "3       2.0           5300.0   \\n            All Wheel Drive\\n             \n",
       "\n",
       "  no_cylinders    Accident_history    price  \n",
       "0            4  Perfect inside out  190,000  \n",
       "1            8  Perfect inside out  228,350  \n",
       "2            8  Perfect inside out  135,575  \n",
       "3            8  Perfect inside out   64,450  "
      ]
     },
     "execution_count": 170,
     "metadata": {},
     "output_type": "execute_result"
    }
   ],
   "source": [
    "# Sorting the columns and removing the car_name column\n",
    "df = df[['car_make', 'car_model', 'model_year', 'km', 'transmission', 'fuel', 'color', 'no_doors', 'engine_capacity', 'drive_type', 'no_cylinders', 'Accident_history', 'price']]\n",
    "df.head(4)"
   ]
  },
  {
   "cell_type": "code",
   "execution_count": 177,
   "metadata": {},
   "outputs": [
    {
     "data": {
      "text/plain": [
       "Toyota           1627\n",
       "Hyundai           907\n",
       "Ford              309\n",
       "Kia               280\n",
       "Chevrolet         249\n",
       "Nissan            167\n",
       "Mercedes-Benz     157\n",
       "Lexus             148\n",
       "BMW               141\n",
       "Honda             112\n",
       "GMC               111\n",
       "Mazda              99\n",
       "Dodge              96\n",
       "Jeep               69\n",
       "Audi               63\n",
       "Mitsubishi         59\n",
       "Land Rover         46\n",
       "Porsche            41\n",
       "Renault            40\n",
       "Infiniti           34\n",
       "Cadillac           33\n",
       "Chrysler           31\n",
       "Volkswagen         30\n",
       "Changan            29\n",
       "MG                 26\n",
       "Haval              22\n",
       "Genesis            16\n",
       "Jaguar             15\n",
       "Geely              14\n",
       "Isuzu              12\n",
       "Suzuki             10\n",
       "Lincoln             8\n",
       "GAC                 7\n",
       "Fiat                7\n",
       "Peugeot             7\n",
       "Daihatsu            6\n",
       "Mini                5\n",
       "Maserati            5\n",
       "Bentley             5\n",
       "Name: car_make, dtype: int64"
      ]
     },
     "execution_count": 177,
     "metadata": {},
     "output_type": "execute_result"
    }
   ],
   "source": [
    "df['car_make'].value_counts()"
   ]
  },
  {
   "cell_type": "code",
   "execution_count": 174,
   "metadata": {},
   "outputs": [],
   "source": [
    "# Fixing the car_make of Land Rover\n",
    "df['car_make'] = df['car_make'].str.replace('Land', 'Land Rover')"
   ]
  },
  {
   "cell_type": "code",
   "execution_count": 175,
   "metadata": {},
   "outputs": [
    {
     "data": {
      "text/plain": [
       "Toyota           1627\n",
       "Hyundai           907\n",
       "Ford              309\n",
       "Kia               280\n",
       "Chevrolet         249\n",
       "Nissan            167\n",
       "Mercedes-Benz     157\n",
       "Lexus             148\n",
       "BMW               141\n",
       "Honda             112\n",
       "GMC               111\n",
       "Mazda              99\n",
       "Dodge              96\n",
       "Jeep               69\n",
       "Audi               63\n",
       "Mitsubishi         59\n",
       "Land Rover         46\n",
       "Porsche            41\n",
       "Renault            40\n",
       "Infiniti           34\n",
       "Cadillac           33\n",
       "Chrysler           31\n",
       "Volkswagen         30\n",
       "Changan            29\n",
       "MG                 26\n",
       "Haval              22\n",
       "Genesis            16\n",
       "Jaguar             15\n",
       "Geely              14\n",
       "Isuzu              12\n",
       "Suzuki             10\n",
       "Lincoln             8\n",
       "GAC                 7\n",
       "Fiat                7\n",
       "Peugeot             7\n",
       "Daihatsu            6\n",
       "Mini                5\n",
       "Maserati            5\n",
       "Bentley             5\n",
       "Name: car_make, dtype: int64"
      ]
     },
     "execution_count": 175,
     "metadata": {},
     "output_type": "execute_result"
    }
   ],
   "source": [
    "# Removing car_make with value count less than 5\n",
    "df = df.groupby('car_make').filter(lambda x : len(x)>4)\n",
    "df.car_make.value_counts()"
   ]
  },
  {
   "cell_type": "code",
   "execution_count": 176,
   "metadata": {},
   "outputs": [],
   "source": [
    "# Removing \\n from drive type\n",
    "df['drive_type'] = df['drive_type'].str.replace('\\n', '')"
   ]
  },
  {
   "cell_type": "code",
   "execution_count": 130,
   "metadata": {},
   "outputs": [
    {
     "data": {
      "text/html": [
       "<div>\n",
       "<style scoped>\n",
       "    .dataframe tbody tr th:only-of-type {\n",
       "        vertical-align: middle;\n",
       "    }\n",
       "\n",
       "    .dataframe tbody tr th {\n",
       "        vertical-align: top;\n",
       "    }\n",
       "\n",
       "    .dataframe thead th {\n",
       "        text-align: right;\n",
       "    }\n",
       "</style>\n",
       "<table border=\"1\" class=\"dataframe\">\n",
       "  <thead>\n",
       "    <tr style=\"text-align: right;\">\n",
       "      <th></th>\n",
       "      <th>car_make</th>\n",
       "      <th>car_model</th>\n",
       "      <th>model_year</th>\n",
       "      <th>km</th>\n",
       "      <th>transmission</th>\n",
       "      <th>fuel</th>\n",
       "      <th>color</th>\n",
       "      <th>no_doors</th>\n",
       "      <th>engine_capacity</th>\n",
       "      <th>drive_type</th>\n",
       "      <th>no_cylinders</th>\n",
       "      <th>Accident_history</th>\n",
       "      <th>price</th>\n",
       "    </tr>\n",
       "  </thead>\n",
       "  <tbody>\n",
       "    <tr>\n",
       "      <th>0</th>\n",
       "      <td>BMW</td>\n",
       "      <td>7</td>\n",
       "      <td>2018</td>\n",
       "      <td>34770</td>\n",
       "      <td>Automatic</td>\n",
       "      <td>Petrol</td>\n",
       "      <td>Silver</td>\n",
       "      <td>4.0</td>\n",
       "      <td>1998.0</td>\n",
       "      <td>Rear Wheel Drive</td>\n",
       "      <td>4</td>\n",
       "      <td>Perfect inside out</td>\n",
       "      <td>190000</td>\n",
       "    </tr>\n",
       "    <tr>\n",
       "      <th>1</th>\n",
       "      <td>Infiniti</td>\n",
       "      <td>QX80</td>\n",
       "      <td>2020</td>\n",
       "      <td>38928</td>\n",
       "      <td>Automatic</td>\n",
       "      <td>Petrol</td>\n",
       "      <td>White</td>\n",
       "      <td>5.0</td>\n",
       "      <td>5552.0</td>\n",
       "      <td>All Wheel Drive</td>\n",
       "      <td>8</td>\n",
       "      <td>Perfect inside out</td>\n",
       "      <td>228350</td>\n",
       "    </tr>\n",
       "    <tr>\n",
       "      <th>2</th>\n",
       "      <td>Chevrolet</td>\n",
       "      <td>Suburban</td>\n",
       "      <td>2018</td>\n",
       "      <td>36827</td>\n",
       "      <td>Automatic</td>\n",
       "      <td>Petrol</td>\n",
       "      <td>Black</td>\n",
       "      <td>5.0</td>\n",
       "      <td>5300.0</td>\n",
       "      <td>Rear Wheel Drive</td>\n",
       "      <td>8</td>\n",
       "      <td>Perfect inside out</td>\n",
       "      <td>135575</td>\n",
       "    </tr>\n",
       "    <tr>\n",
       "      <th>3</th>\n",
       "      <td>Chevrolet</td>\n",
       "      <td>Silverado</td>\n",
       "      <td>2016</td>\n",
       "      <td>142731</td>\n",
       "      <td>Automatic</td>\n",
       "      <td>Petrol</td>\n",
       "      <td>White</td>\n",
       "      <td>2.0</td>\n",
       "      <td>5300.0</td>\n",
       "      <td>All Wheel Drive</td>\n",
       "      <td>8</td>\n",
       "      <td>Perfect inside out</td>\n",
       "      <td>64450</td>\n",
       "    </tr>\n",
       "  </tbody>\n",
       "</table>\n",
       "</div>"
      ],
      "text/plain": [
       "    car_make  car_model  model_year      km transmission    fuel   color  \\\n",
       "0        BMW          7        2018   34770    Automatic  Petrol  Silver   \n",
       "1   Infiniti       QX80        2020   38928    Automatic  Petrol   White   \n",
       "2  Chevrolet   Suburban        2018   36827    Automatic  Petrol   Black   \n",
       "3  Chevrolet  Silverado        2016  142731    Automatic  Petrol   White   \n",
       "\n",
       "   no_doors  engine_capacity                              drive_type  \\\n",
       "0       4.0           1998.0              Rear Wheel Drive             \n",
       "1       5.0           5552.0               All Wheel Drive             \n",
       "2       5.0           5300.0              Rear Wheel Drive             \n",
       "3       2.0           5300.0               All Wheel Drive             \n",
       "\n",
       "  no_cylinders    Accident_history   price  \n",
       "0            4  Perfect inside out  190000  \n",
       "1            8  Perfect inside out  228350  \n",
       "2            8  Perfect inside out  135575  \n",
       "3            8  Perfect inside out   64450  "
      ]
     },
     "execution_count": 130,
     "metadata": {},
     "output_type": "execute_result"
    }
   ],
   "source": [
    "# Converting km and price to int\n",
    "df['km'] = df['km'].str.replace('KM', '')\n",
    "df['km'] = df['km'].str.replace(',', '')\n",
    "df['price'] = df['price'].str.replace(',', '')\n",
    "df['price'] = df['price'].astype(int)\n",
    "df['km'] = df['km'].astype(int)\n",
    "df.head(4)"
   ]
  },
  {
   "cell_type": "code",
   "execution_count": 131,
   "metadata": {},
   "outputs": [
    {
     "name": "stdout",
     "output_type": "stream",
     "text": [
      "<class 'pandas.core.frame.DataFrame'>\n",
      "Int64Index: 5088 entries, 0 to 1059\n",
      "Data columns (total 13 columns):\n",
      " #   Column            Non-Null Count  Dtype  \n",
      "---  ------            --------------  -----  \n",
      " 0   car_make          5088 non-null   object \n",
      " 1   car_model         5088 non-null   object \n",
      " 2   model_year        5088 non-null   int64  \n",
      " 3   km                5088 non-null   int64  \n",
      " 4   transmission      3197 non-null   object \n",
      " 5   fuel              657 non-null    object \n",
      " 6   color             4160 non-null   object \n",
      " 7   no_doors          641 non-null    float64\n",
      " 8   engine_capacity   584 non-null    float64\n",
      " 9   drive_type        5088 non-null   object \n",
      " 10  no_cylinders      3216 non-null   object \n",
      " 11  Accident_history  2550 non-null   object \n",
      " 12  price             5088 non-null   int64  \n",
      "dtypes: float64(2), int64(3), object(8)\n",
      "memory usage: 556.5+ KB\n"
     ]
    }
   ],
   "source": [
    "df.info()"
   ]
  },
  {
   "cell_type": "code",
   "execution_count": 132,
   "metadata": {},
   "outputs": [
    {
     "data": {
      "text/plain": [
       "4                1471\n",
       "6                1058\n",
       "8                 617\n",
       "Not Sure           34\n",
       "3                  15\n",
       "5                  12\n",
       "12                  5\n",
       "N/A, Electric       2\n",
       "10                  1\n",
       "Other               1\n",
       "Name: no_cylinders, dtype: int64"
      ]
     },
     "execution_count": 132,
     "metadata": {},
     "output_type": "execute_result"
    }
   ],
   "source": [
    "df.no_cylinders.value_counts()"
   ]
  },
  {
   "cell_type": "code",
   "execution_count": 116,
   "metadata": {},
   "outputs": [],
   "source": [
    "# Renaming Not Sure, Other, N/A, Electric and NaN in no_cylinders to Unknown\n",
    "df['no_cylinders'] = df['no_cylinders'].str.replace('Not Sure','Unknown', regex=True)\n",
    "df['no_cylinders'] = df['no_cylinders'].str.replace('N/A, Electric','Unknown', regex=True)\n",
    "df['no_cylinders'] = df['no_cylinders'].str.replace('Other','Unknown', regex=True)\n",
    "df['no_cylinders'].fillna('Unknown', inplace=True)"
   ]
  },
  {
   "cell_type": "markdown",
   "metadata": {},
   "source": [
    "NA Values"
   ]
  },
  {
   "cell_type": "code",
   "execution_count": 133,
   "metadata": {},
   "outputs": [
    {
     "data": {
      "text/plain": [
       "car_make               0\n",
       "car_model              0\n",
       "model_year             0\n",
       "km                     0\n",
       "transmission        1891\n",
       "fuel                4431\n",
       "color                928\n",
       "no_doors            4447\n",
       "engine_capacity     4504\n",
       "drive_type             0\n",
       "no_cylinders        1872\n",
       "Accident_history    2538\n",
       "price                  0\n",
       "dtype: int64"
      ]
     },
     "execution_count": 133,
     "metadata": {},
     "output_type": "execute_result"
    }
   ],
   "source": [
    "df.isna().sum()"
   ]
  },
  {
   "cell_type": "code",
   "execution_count": 134,
   "metadata": {},
   "outputs": [],
   "source": [
    "# Dropping the variables no_doors and engine_capacity\n",
    "df.drop(['no_doors', 'engine_capacity'], axis=1, inplace=True)"
   ]
  },
  {
   "cell_type": "code",
   "execution_count": 110,
   "metadata": {},
   "outputs": [
    {
     "data": {
      "text/plain": [
       "Petrol    5060\n",
       "Diesel      18\n",
       "Hybrid      10\n",
       "Name: fuel, dtype: int64"
      ]
     },
     "execution_count": 110,
     "metadata": {},
     "output_type": "execute_result"
    }
   ],
   "source": [
    "df.fuel.value_counts()"
   ]
  },
  {
   "cell_type": "code",
   "execution_count": 135,
   "metadata": {},
   "outputs": [],
   "source": [
    "# For fuel we can see that most of the non-missing values are Petrol and according to ... so we'll fill missing values with Petrol\n",
    "df['fuel'].fillna('Petrol', inplace=True)"
   ]
  },
  {
   "cell_type": "code",
   "execution_count": 140,
   "metadata": {},
   "outputs": [],
   "source": [
    "# Filling the missing values for color and transmission with unknown\n",
    "df['color'].fillna('Unknown', inplace=True)\n",
    "df['color'] = df['color'].str.replace('Other','Unknown', regex=True)\n",
    "df['transmission'].fillna('Unknown', inplace=True)"
   ]
  },
  {
   "cell_type": "code",
   "execution_count": 137,
   "metadata": {},
   "outputs": [],
   "source": [
    "# Filling the missing values for Accident_history with no history\n",
    "df['Accident_history'].fillna('no history', inplace=True)"
   ]
  },
  {
   "cell_type": "code",
   "execution_count": 138,
   "metadata": {},
   "outputs": [
    {
     "name": "stdout",
     "output_type": "stream",
     "text": [
      "<class 'pandas.core.frame.DataFrame'>\n",
      "Int64Index: 5088 entries, 0 to 1059\n",
      "Data columns (total 11 columns):\n",
      " #   Column            Non-Null Count  Dtype \n",
      "---  ------            --------------  ----- \n",
      " 0   car_make          5088 non-null   object\n",
      " 1   car_model         5088 non-null   object\n",
      " 2   model_year        5088 non-null   int64 \n",
      " 3   km                5088 non-null   int64 \n",
      " 4   transmission      5088 non-null   object\n",
      " 5   fuel              5088 non-null   object\n",
      " 6   color             5088 non-null   object\n",
      " 7   drive_type        5088 non-null   object\n",
      " 8   no_cylinders      3216 non-null   object\n",
      " 9   Accident_history  5088 non-null   object\n",
      " 10  price             5088 non-null   int64 \n",
      "dtypes: int64(3), object(8)\n",
      "memory usage: 477.0+ KB\n"
     ]
    }
   ],
   "source": [
    "df.info()"
   ]
  },
  {
   "cell_type": "code",
   "execution_count": 145,
   "metadata": {},
   "outputs": [
    {
     "data": {
      "text/html": [
       "<div>\n",
       "<style scoped>\n",
       "    .dataframe tbody tr th:only-of-type {\n",
       "        vertical-align: middle;\n",
       "    }\n",
       "\n",
       "    .dataframe tbody tr th {\n",
       "        vertical-align: top;\n",
       "    }\n",
       "\n",
       "    .dataframe thead th {\n",
       "        text-align: right;\n",
       "    }\n",
       "</style>\n",
       "<table border=\"1\" class=\"dataframe\">\n",
       "  <thead>\n",
       "    <tr style=\"text-align: right;\">\n",
       "      <th></th>\n",
       "      <th>car_make</th>\n",
       "      <th>car_model</th>\n",
       "      <th>model_year</th>\n",
       "      <th>km</th>\n",
       "      <th>transmission</th>\n",
       "      <th>fuel</th>\n",
       "      <th>color</th>\n",
       "      <th>drive_type</th>\n",
       "      <th>no_cylinders</th>\n",
       "      <th>Accident_history</th>\n",
       "      <th>price</th>\n",
       "    </tr>\n",
       "  </thead>\n",
       "  <tbody>\n",
       "  </tbody>\n",
       "</table>\n",
       "</div>"
      ],
      "text/plain": [
       "Empty DataFrame\n",
       "Columns: [car_make, car_model, model_year, km, transmission, fuel, color, drive_type, no_cylinders, Accident_history, price]\n",
       "Index: []"
      ]
     },
     "execution_count": 145,
     "metadata": {},
     "output_type": "execute_result"
    }
   ],
   "source": [
    "df[df.car_make == 'new']"
   ]
  }
 ],
 "metadata": {
  "kernelspec": {
   "display_name": "Python 3.9.12 ('base')",
   "language": "python",
   "name": "python3"
  },
  "language_info": {
   "codemirror_mode": {
    "name": "ipython",
    "version": 3
   },
   "file_extension": ".py",
   "mimetype": "text/x-python",
   "name": "python",
   "nbconvert_exporter": "python",
   "pygments_lexer": "ipython3",
   "version": "3.9.12"
  },
  "orig_nbformat": 4,
  "vscode": {
   "interpreter": {
    "hash": "d4d1e4263499bec80672ea0156c357c1ee493ec2b1c70f0acce89fc37c4a6abe"
   }
  }
 },
 "nbformat": 4,
 "nbformat_minor": 2
}
